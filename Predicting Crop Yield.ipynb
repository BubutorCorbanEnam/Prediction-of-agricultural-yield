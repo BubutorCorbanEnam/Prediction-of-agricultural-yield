{
 "cells": [
  {
   "cell_type": "code",
   "execution_count": 2,
   "id": "e13003fc",
   "metadata": {},
   "outputs": [],
   "source": [
    "import numpy as np\n",
    "import pandas as pd\n",
    "import seaborn as sns\n",
    "import matplotlib.pyplot as plt\n",
    "from sklearn.model_selection import train_test_split\n",
    "from sklearn.linear_model import LinearRegression\n",
    "from ipywidgets import interact, IntSlider, FloatSlider\n",
    "from sklearn.metrics import accuracy_score\n",
    "import statsmodels.api as sm\n",
    "from sklearn.tree import DecisionTreeClassifier\n",
    "%matplotlib inline"
   ]
  },
  {
   "cell_type": "code",
   "execution_count": 3,
   "id": "c91e88a0",
   "metadata": {},
   "outputs": [
    {
     "name": "stderr",
     "output_type": "stream",
     "text": [
      "C:\\Users\\USER\\anaconda3\\lib\\site-packages\\IPython\\core\\interactiveshell.py:3444: DtypeWarning: Columns (12) have mixed types.Specify dtype option on import or set low_memory=False.\n",
      "  exec(code_obj, self.user_global_ns, self.user_ns)\n"
     ]
    },
    {
     "data": {
      "text/html": [
       "<div>\n",
       "<style scoped>\n",
       "    .dataframe tbody tr th:only-of-type {\n",
       "        vertical-align: middle;\n",
       "    }\n",
       "\n",
       "    .dataframe tbody tr th {\n",
       "        vertical-align: top;\n",
       "    }\n",
       "\n",
       "    .dataframe thead th {\n",
       "        text-align: right;\n",
       "    }\n",
       "</style>\n",
       "<table border=\"1\" class=\"dataframe\">\n",
       "  <thead>\n",
       "    <tr style=\"text-align: right;\">\n",
       "      <th></th>\n",
       "      <th>State_Name</th>\n",
       "      <th>Crop_Type</th>\n",
       "      <th>Crop</th>\n",
       "      <th>N</th>\n",
       "      <th>P</th>\n",
       "      <th>K</th>\n",
       "      <th>rainfall</th>\n",
       "      <th>Area_in_hectares</th>\n",
       "      <th>Production_in_tons</th>\n",
       "      <th>Yield_ton_per_hec</th>\n",
       "    </tr>\n",
       "  </thead>\n",
       "  <tbody>\n",
       "    <tr>\n",
       "      <th>0</th>\n",
       "      <td>andhra pradesh</td>\n",
       "      <td>kharif</td>\n",
       "      <td>cotton</td>\n",
       "      <td>120</td>\n",
       "      <td>40</td>\n",
       "      <td>20</td>\n",
       "      <td>654.34</td>\n",
       "      <td>7300.0</td>\n",
       "      <td>9400.0</td>\n",
       "      <td>1.29</td>\n",
       "    </tr>\n",
       "    <tr>\n",
       "      <th>1</th>\n",
       "      <td>andhra pradesh</td>\n",
       "      <td>kharif</td>\n",
       "      <td>horsegram</td>\n",
       "      <td>20</td>\n",
       "      <td>60</td>\n",
       "      <td>20</td>\n",
       "      <td>654.34</td>\n",
       "      <td>3300.0</td>\n",
       "      <td>1000.0</td>\n",
       "      <td>0.30</td>\n",
       "    </tr>\n",
       "  </tbody>\n",
       "</table>\n",
       "</div>"
      ],
      "text/plain": [
       "       State_Name Crop_Type       Crop    N   P   K  rainfall  \\\n",
       "0  andhra pradesh    kharif     cotton  120  40  20    654.34   \n",
       "1  andhra pradesh    kharif  horsegram   20  60  20    654.34   \n",
       "\n",
       "   Area_in_hectares  Production_in_tons  Yield_ton_per_hec  \n",
       "0            7300.0              9400.0               1.29  \n",
       "1            3300.0              1000.0               0.30  "
      ]
     },
     "execution_count": 3,
     "metadata": {},
     "output_type": "execute_result"
    }
   ],
   "source": [
    "df = pd.read_csv(\"Agriculture Sector (1).csv\")\n",
    "df.drop(columns=['Unnamed: 10', 'Unnamed: 11', 'Unnamed: 12'],inplace=True)\n",
    "df.head(2)"
   ]
  },
  {
   "cell_type": "code",
   "execution_count": 4,
   "id": "aaedc68f",
   "metadata": {},
   "outputs": [
    {
     "data": {
      "text/html": [
       "<div>\n",
       "<style scoped>\n",
       "    .dataframe tbody tr th:only-of-type {\n",
       "        vertical-align: middle;\n",
       "    }\n",
       "\n",
       "    .dataframe tbody tr th {\n",
       "        vertical-align: top;\n",
       "    }\n",
       "\n",
       "    .dataframe thead th {\n",
       "        text-align: right;\n",
       "    }\n",
       "</style>\n",
       "<table border=\"1\" class=\"dataframe\">\n",
       "  <thead>\n",
       "    <tr style=\"text-align: right;\">\n",
       "      <th></th>\n",
       "      <th>N</th>\n",
       "      <th>P</th>\n",
       "      <th>K</th>\n",
       "      <th>rainfall</th>\n",
       "      <th>Area_in_hectares</th>\n",
       "      <th>Production_in_tons</th>\n",
       "      <th>Yield_ton_per_hec</th>\n",
       "    </tr>\n",
       "  </thead>\n",
       "  <tbody>\n",
       "    <tr>\n",
       "      <th>N</th>\n",
       "      <td>1.000000</td>\n",
       "      <td>0.342521</td>\n",
       "      <td>0.486650</td>\n",
       "      <td>0.111900</td>\n",
       "      <td>0.009287</td>\n",
       "      <td>0.097888</td>\n",
       "      <td>0.090222</td>\n",
       "    </tr>\n",
       "    <tr>\n",
       "      <th>P</th>\n",
       "      <td>0.342521</td>\n",
       "      <td>1.000000</td>\n",
       "      <td>0.210349</td>\n",
       "      <td>0.110686</td>\n",
       "      <td>-0.057514</td>\n",
       "      <td>-0.010698</td>\n",
       "      <td>0.076805</td>\n",
       "    </tr>\n",
       "    <tr>\n",
       "      <th>K</th>\n",
       "      <td>0.486650</td>\n",
       "      <td>0.210349</td>\n",
       "      <td>1.000000</td>\n",
       "      <td>0.369173</td>\n",
       "      <td>-0.120388</td>\n",
       "      <td>-0.026379</td>\n",
       "      <td>0.076197</td>\n",
       "    </tr>\n",
       "    <tr>\n",
       "      <th>rainfall</th>\n",
       "      <td>0.111900</td>\n",
       "      <td>0.110686</td>\n",
       "      <td>0.369173</td>\n",
       "      <td>1.000000</td>\n",
       "      <td>-0.135261</td>\n",
       "      <td>-0.097948</td>\n",
       "      <td>0.026491</td>\n",
       "    </tr>\n",
       "    <tr>\n",
       "      <th>Area_in_hectares</th>\n",
       "      <td>0.009287</td>\n",
       "      <td>-0.057514</td>\n",
       "      <td>-0.120388</td>\n",
       "      <td>-0.135261</td>\n",
       "      <td>1.000000</td>\n",
       "      <td>0.736019</td>\n",
       "      <td>-0.018287</td>\n",
       "    </tr>\n",
       "    <tr>\n",
       "      <th>Production_in_tons</th>\n",
       "      <td>0.097888</td>\n",
       "      <td>-0.010698</td>\n",
       "      <td>-0.026379</td>\n",
       "      <td>-0.097948</td>\n",
       "      <td>0.736019</td>\n",
       "      <td>1.000000</td>\n",
       "      <td>0.028306</td>\n",
       "    </tr>\n",
       "    <tr>\n",
       "      <th>Yield_ton_per_hec</th>\n",
       "      <td>0.090222</td>\n",
       "      <td>0.076805</td>\n",
       "      <td>0.076197</td>\n",
       "      <td>0.026491</td>\n",
       "      <td>-0.018287</td>\n",
       "      <td>0.028306</td>\n",
       "      <td>1.000000</td>\n",
       "    </tr>\n",
       "  </tbody>\n",
       "</table>\n",
       "</div>"
      ],
      "text/plain": [
       "                           N         P         K  rainfall  Area_in_hectares  \\\n",
       "N                   1.000000  0.342521  0.486650  0.111900          0.009287   \n",
       "P                   0.342521  1.000000  0.210349  0.110686         -0.057514   \n",
       "K                   0.486650  0.210349  1.000000  0.369173         -0.120388   \n",
       "rainfall            0.111900  0.110686  0.369173  1.000000         -0.135261   \n",
       "Area_in_hectares    0.009287 -0.057514 -0.120388 -0.135261          1.000000   \n",
       "Production_in_tons  0.097888 -0.010698 -0.026379 -0.097948          0.736019   \n",
       "Yield_ton_per_hec   0.090222  0.076805  0.076197  0.026491         -0.018287   \n",
       "\n",
       "                    Production_in_tons  Yield_ton_per_hec  \n",
       "N                             0.097888           0.090222  \n",
       "P                            -0.010698           0.076805  \n",
       "K                            -0.026379           0.076197  \n",
       "rainfall                     -0.097948           0.026491  \n",
       "Area_in_hectares              0.736019          -0.018287  \n",
       "Production_in_tons            1.000000           0.028306  \n",
       "Yield_ton_per_hec             0.028306           1.000000  "
      ]
     },
     "execution_count": 4,
     "metadata": {},
     "output_type": "execute_result"
    }
   ],
   "source": [
    "df.corr()"
   ]
  },
  {
   "cell_type": "code",
   "execution_count": 5,
   "id": "f5016d40",
   "metadata": {},
   "outputs": [
    {
     "data": {
      "text/plain": [
       "<AxesSubplot:>"
      ]
     },
     "execution_count": 5,
     "metadata": {},
     "output_type": "execute_result"
    },
    {
     "data": {
      "image/png": "[encoded data removed]",
      "text/plain": [
       "<Figure size 432x288 with 2 Axes>"
      ]
     },
     "metadata": {
      "needs_background": "light"
     },
     "output_type": "display_data"
    }
   ],
   "source": [
    "\n",
    "sns.heatmap(df.corr(),annot=True)"
   ]
  },
  {
   "cell_type": "code",
   "execution_count": 6,
   "id": "2dea51bc",
   "metadata": {},
   "outputs": [
    {
     "data": {
      "image/png": "[encoded data removed]",
      "text/plain": [
       "<Figure size 432x288 with 1 Axes>"
      ]
     },
     "metadata": {
      "needs_background": "light"
     },
     "output_type": "display_data"
    }
   ],
   "source": [
    "sns.countplot(x=df['Crop_Type'],);"
   ]
  },
  {
   "cell_type": "code",
   "execution_count": 7,
   "id": "7b681e28",
   "metadata": {},
   "outputs": [],
   "source": [
    "data=df.select_dtypes(\"number\")\n"
   ]
  },
  {
   "cell_type": "code",
   "execution_count": 12,
   "id": "3d92ad4e",
   "metadata": {},
   "outputs": [
    {
     "data": {
      "image/png": "[encoded data removed]",
      "text/plain": [
       "<Figure size 1152x432 with 1 Axes>"
      ]
     },
     "metadata": {
      "needs_background": "light"
     },
     "output_type": "display_data"
    }
   ],
   "source": [
    "fig, ax = plt.subplots(figsize=(16,6))\n",
    "df.groupby('State_Name')['Production_in_tons'].mean().plot(kind=\"line\", ax=ax,ylabel='Mean of Production_in_ton')\n",
    "plt.xticks(rotation=45);"
   ]
  },
  {
   "cell_type": "code",
   "execution_count": 34,
   "id": "e0d2cfa7",
   "metadata": {},
   "outputs": [
    {
     "data": {
      "image/png": "[encoded data removed]",
      "text/plain": [
       "<Figure size 720x432 with 1 Axes>"
      ]
     },
     "metadata": {
      "needs_background": "light"
     },
     "output_type": "display_data"
    }
   ],
   "source": [
    "plt.figure(figsize=(10,6))\n",
    "df.groupby('State_Name')['Production_in_tons'].mean().plot(kind=\"line\")\n",
    "plt.xticks(rotation=45);"
   ]
  },
  {
   "cell_type": "code",
   "execution_count": 35,
   "id": "38701718",
   "metadata": {},
   "outputs": [],
   "source": [
    "# df['Area_in_hectares'].plot(kind='pie')"
   ]
  },
  {
   "cell_type": "code",
   "execution_count": 36,
   "id": "7a591e70",
   "metadata": {},
   "outputs": [],
   "source": [
    "X = df[['N', 'P', 'K', 'rainfall',\n",
    "       'Area_in_hectares']]\n",
    "y = df['Production_in_tons']"
   ]
  },
  {
   "cell_type": "markdown",
   "id": "d9d61c63",
   "metadata": {},
   "source": [
    "## Machine Learning "
   ]
  },
  {
   "cell_type": "markdown",
   "id": "187e343f",
   "metadata": {},
   "source": [
    "#### Linear Regression"
   ]
  },
  {
   "cell_type": "code",
   "execution_count": 37,
   "id": "89c61840",
   "metadata": {},
   "outputs": [],
   "source": [
    "X_train, X_test, y_train, y_test = train_test_split( X, y, test_size=0.33, random_state=42)"
   ]
  },
  {
   "cell_type": "code",
   "execution_count": 38,
   "id": "d95b1a8a",
   "metadata": {},
   "outputs": [],
   "source": [
    "lm = LinearRegression()"
   ]
  },
  {
   "cell_type": "code",
   "execution_count": 39,
   "id": "a96a8dbe",
   "metadata": {},
   "outputs": [
    {
     "data": {
      "text/html": [
       "<style>#sk-container-id-2 {color: black;background-color: white;}#sk-container-id-2 pre{padding: 0;}#sk-container-id-2 div.sk-toggleable {background-color: white;}#sk-container-id-2 label.sk-toggleable__label {cursor: pointer;display: block;width: 100%;margin-bottom: 0;padding: 0.3em;box-sizing: border-box;text-align: center;}#sk-container-id-2 label.sk-toggleable__label-arrow:before {content: \"▸\";float: left;margin-right: 0.25em;color: #696969;}#sk-container-id-2 label.sk-toggleable__label-arrow:hover:before {color: black;}#sk-container-id-2 div.sk-estimator:hover label.sk-toggleable__label-arrow:before {color: black;}#sk-container-id-2 div.sk-toggleable__content {max-height: 0;max-width: 0;overflow: hidden;text-align: left;background-color: #f0f8ff;}#sk-container-id-2 div.sk-toggleable__content pre {margin: 0.2em;color: black;border-radius: 0.25em;background-color: #f0f8ff;}#sk-container-id-2 input.sk-toggleable__control:checked~div.sk-toggleable__content {max-height: 200px;max-width: 100%;overflow: auto;}#sk-container-id-2 input.sk-toggleable__control:checked~label.sk-toggleable__label-arrow:before {content: \"▾\";}#sk-container-id-2 div.sk-estimator input.sk-toggleable__control:checked~label.sk-toggleable__label {background-color: #d4ebff;}#sk-container-id-2 div.sk-label input.sk-toggleable__control:checked~label.sk-toggleable__label {background-color: #d4ebff;}#sk-container-id-2 input.sk-hidden--visually {border: 0;clip: rect(1px 1px 1px 1px);clip: rect(1px, 1px, 1px, 1px);height: 1px;margin: -1px;overflow: hidden;padding: 0;position: absolute;width: 1px;}#sk-container-id-2 div.sk-estimator {font-family: monospace;background-color: #f0f8ff;border: 1px dotted black;border-radius: 0.25em;box-sizing: border-box;margin-bottom: 0.5em;}#sk-container-id-2 div.sk-estimator:hover {background-color: #d4ebff;}#sk-container-id-2 div.sk-parallel-item::after {content: \"\";width: 100%;border-bottom: 1px solid gray;flex-grow: 1;}#sk-container-id-2 div.sk-label:hover label.sk-toggleable__label {background-color: #d4ebff;}#sk-container-id-2 div.sk-serial::before {content: \"\";position: absolute;border-left: 1px solid gray;box-sizing: border-box;top: 0;bottom: 0;left: 50%;z-index: 0;}#sk-container-id-2 div.sk-serial {display: flex;flex-direction: column;align-items: center;background-color: white;padding-right: 0.2em;padding-left: 0.2em;position: relative;}#sk-container-id-2 div.sk-item {position: relative;z-index: 1;}#sk-container-id-2 div.sk-parallel {display: flex;align-items: stretch;justify-content: center;background-color: white;position: relative;}#sk-container-id-2 div.sk-item::before, #sk-container-id-2 div.sk-parallel-item::before {content: \"\";position: absolute;border-left: 1px solid gray;box-sizing: border-box;top: 0;bottom: 0;left: 50%;z-index: -1;}#sk-container-id-2 div.sk-parallel-item {display: flex;flex-direction: column;z-index: 1;position: relative;background-color: white;}#sk-container-id-2 div.sk-parallel-item:first-child::after {align-self: flex-end;width: 50%;}#sk-container-id-2 div.sk-parallel-item:last-child::after {align-self: flex-start;width: 50%;}#sk-container-id-2 div.sk-parallel-item:only-child::after {width: 0;}#sk-container-id-2 div.sk-dashed-wrapped {border: 1px dashed gray;margin: 0 0.4em 0.5em 0.4em;box-sizing: border-box;padding-bottom: 0.4em;background-color: white;}#sk-container-id-2 div.sk-label label {font-family: monospace;font-weight: bold;display: inline-block;line-height: 1.2em;}#sk-container-id-2 div.sk-label-container {text-align: center;}#sk-container-id-2 div.sk-container {/* jupyter's `normalize.less` sets `[hidden] { display: none; }` but bootstrap.min.css set `[hidden] { display: none !important; }` so we also need the `!important` here to be able to override the default hidden behavior on the sphinx rendered scikit-learn.org. See: https://github.com/scikit-learn/scikit-learn/issues/21755 */display: inline-block !important;position: relative;}#sk-container-id-2 div.sk-text-repr-fallback {display: none;}</style><div id=\"sk-container-id-2\" class=\"sk-top-container\"><div class=\"sk-text-repr-fallback\"><pre>LinearRegression()</pre><b>In a Jupyter environment, please rerun this cell to show the HTML representation or trust the notebook. <br />On GitHub, the HTML representation is unable to render, please try loading this page with nbviewer.org.</b></div><div class=\"sk-container\" hidden><div class=\"sk-item\"><div class=\"sk-estimator sk-toggleable\"><input class=\"sk-toggleable__control sk-hidden--visually\" id=\"sk-estimator-id-2\" type=\"checkbox\" checked><label for=\"sk-estimator-id-2\" class=\"sk-toggleable__label sk-toggleable__label-arrow\">LinearRegression</label><div class=\"sk-toggleable__content\"><pre>LinearRegression()</pre></div></div></div></div></div>"
      ],
      "text/plain": [
       "LinearRegression()"
      ]
     },
     "execution_count": 39,
     "metadata": {},
     "output_type": "execute_result"
    }
   ],
   "source": [
    "lm.fit(X_train,y_train)"
   ]
  },
  {
   "cell_type": "code",
   "execution_count": 40,
   "id": "9560834f",
   "metadata": {},
   "outputs": [
    {
     "data": {
      "text/plain": [
       "array([247.48542929,  -4.9600694 , 132.05656779,  -3.9478497 ,\n",
       "         2.04265963])"
      ]
     },
     "execution_count": 40,
     "metadata": {},
     "output_type": "execute_result"
    }
   ],
   "source": [
    "lm.coef_"
   ]
  },
  {
   "cell_type": "code",
   "execution_count": 41,
   "id": "527bbbb2",
   "metadata": {},
   "outputs": [
    {
     "data": {
      "text/plain": [
       "0.5411004520015155"
      ]
     },
     "execution_count": 41,
     "metadata": {},
     "output_type": "execute_result"
    }
   ],
   "source": [
    "lm.score(X_train,y_train)"
   ]
  },
  {
   "cell_type": "code",
   "execution_count": 42,
   "id": "7de91ee3",
   "metadata": {},
   "outputs": [
    {
     "data": {
      "text/plain": [
       "array([12385.94564255, 10239.43355975,  2479.14333299, ...,\n",
       "       44670.8951944 , 42378.85925482,  3996.116961  ])"
      ]
     },
     "execution_count": 42,
     "metadata": {},
     "output_type": "execute_result"
    }
   ],
   "source": [
    "lm.predict(X_train)"
   ]
  },
  {
   "cell_type": "code",
   "execution_count": 43,
   "id": "55490945",
   "metadata": {},
   "outputs": [],
   "source": [
    "y_pred_test = pd.Series(lm.predict(X_test))\n"
   ]
  },
  {
   "cell_type": "code",
   "execution_count": 44,
   "id": "14a80d3d",
   "metadata": {},
   "outputs": [
    {
     "name": "stdout",
     "output_type": "stream",
     "text": [
      "                                 OLS Regression Results                                \n",
      "=======================================================================================\n",
      "Dep. Variable:     Production_in_tons   R-squared (uncentered):                   0.588\n",
      "Model:                            OLS   Adj. R-squared (uncentered):              0.588\n",
      "Method:                 Least Squares   F-statistic:                          2.854e+04\n",
      "Date:                Tue, 07 May 2024   Prob (F-statistic):                        0.00\n",
      "Time:                        11:01:11   Log-Likelihood:                     -1.2715e+06\n",
      "No. Observations:               99849   AIC:                                  2.543e+06\n",
      "Df Residuals:                   99844   BIC:                                  2.543e+06\n",
      "Df Model:                           5                                                  \n",
      "Covariance Type:            nonrobust                                                  \n",
      "====================================================================================\n",
      "                       coef    std err          t      P>|t|      [0.025      0.975]\n",
      "------------------------------------------------------------------------------------\n",
      "N                  216.2495      7.796     27.737      0.000     200.969     231.530\n",
      "P                 -241.2908     13.309    -18.130      0.000    -267.375    -215.206\n",
      "K                  108.2514     11.203      9.663      0.000      86.294     130.209\n",
      "rainfall            -5.6325      0.456    -12.342      0.000      -6.527      -4.738\n",
      "Area_in_hectares     2.0414      0.006    344.314      0.000       2.030       2.053\n",
      "==============================================================================\n",
      "Omnibus:                   148971.787   Durbin-Watson:                   1.909\n",
      "Prob(Omnibus):                  0.000   Jarque-Bera (JB):        166427417.129\n",
      "Skew:                           8.835   Prob(JB):                         0.00\n",
      "Kurtosis:                     202.225   Cond. No.                     2.55e+03\n",
      "==============================================================================\n",
      "\n",
      "Notes:\n",
      "[1] R² is computed without centering (uncentered) since the model does not contain a constant.\n",
      "[2] Standard Errors assume that the covariance matrix of the errors is correctly specified.\n",
      "[3] The condition number is large, 2.55e+03. This might indicate that there are\n",
      "strong multicollinearity or other numerical problems.\n"
     ]
    }
   ],
   "source": [
    "# X = sm.add_constant(X)  # adding a constant\n",
    "model = sm.OLS(y, X).fit()\n",
    "\n",
    "print(model.summary())"
   ]
  },
  {
   "cell_type": "code",
   "execution_count": 45,
   "id": "1681be08",
   "metadata": {},
   "outputs": [
    {
     "data": {
      "text/html": [
       "<table class=\"simpletable\">\n",
       "<tr>\n",
       "          <td>Model:</td>                  <td>OLS</td>        <td>Adj. R-squared (uncentered):</td>     <td>0.588</td>   \n",
       "</tr>\n",
       "<tr>\n",
       "    <td>Dependent Variable:</td>   <td>Production_in_tons</td>             <td>AIC:</td>             <td>2543063.4459</td>\n",
       "</tr>\n",
       "<tr>\n",
       "           <td>Date:</td>           <td>2024-05-07 11:01</td>              <td>BIC:</td>             <td>2543111.0030</td>\n",
       "</tr>\n",
       "<tr>\n",
       "     <td>No. Observations:</td>           <td>99849</td>              <td>Log-Likelihood:</td>        <td>-1.2715e+06</td>\n",
       "</tr>\n",
       "<tr>\n",
       "         <td>Df Model:</td>                 <td>5</td>                 <td>F-statistic:</td>           <td>2.854e+04</td> \n",
       "</tr>\n",
       "<tr>\n",
       "       <td>Df Residuals:</td>             <td>99844</td>            <td>Prob (F-statistic):</td>         <td>0.00</td>    \n",
       "</tr>\n",
       "<tr>\n",
       "  <td>R-squared (uncentered):</td>        <td>0.588</td>                  <td>Scale:</td>             <td>6.7389e+09</td> \n",
       "</tr>\n",
       "</table>\n",
       "<table class=\"simpletable\">\n",
       "<tr>\n",
       "          <td></td>           <th>Coef.</th>   <th>Std.Err.</th>     <th>t</th>     <th>P>|t|</th>  <th>[0.025</th>    <th>0.975]</th>  \n",
       "</tr>\n",
       "<tr>\n",
       "  <th>N</th>                <td>216.2495</td>   <td>7.7964</td>   <td>27.7371</td> <td>0.0000</td> <td>200.9687</td>  <td>231.5304</td> \n",
       "</tr>\n",
       "<tr>\n",
       "  <th>P</th>                <td>-241.2908</td>  <td>13.3086</td> <td>-18.1305</td> <td>0.0000</td> <td>-267.3755</td> <td>-215.2061</td>\n",
       "</tr>\n",
       "<tr>\n",
       "  <th>K</th>                <td>108.2514</td>   <td>11.2028</td>  <td>9.6629</td>  <td>0.0000</td>  <td>86.2940</td>  <td>130.2088</td> \n",
       "</tr>\n",
       "<tr>\n",
       "  <th>rainfall</th>          <td>-5.6325</td>   <td>0.4564</td>  <td>-12.3419</td> <td>0.0000</td>  <td>-6.5270</td>   <td>-4.7380</td> \n",
       "</tr>\n",
       "<tr>\n",
       "  <th>Area_in_hectares</th>  <td>2.0414</td>    <td>0.0059</td>  <td>344.3138</td> <td>0.0000</td>  <td>2.0298</td>    <td>2.0531</td>  \n",
       "</tr>\n",
       "</table>\n",
       "<table class=\"simpletable\">\n",
       "<tr>\n",
       "     <td>Omnibus:</td>    <td>148971.787</td>  <td>Durbin-Watson:</td>       <td>1.909</td>    \n",
       "</tr>\n",
       "<tr>\n",
       "  <td>Prob(Omnibus):</td>    <td>0.000</td>   <td>Jarque-Bera (JB):</td> <td>166427417.129</td>\n",
       "</tr>\n",
       "<tr>\n",
       "       <td>Skew:</td>        <td>8.835</td>       <td>Prob(JB):</td>         <td>0.000</td>    \n",
       "</tr>\n",
       "<tr>\n",
       "     <td>Kurtosis:</td>     <td>202.225</td>   <td>Condition No.:</td>       <td>2546</td>     \n",
       "</tr>\n",
       "</table>"
      ],
      "text/plain": [
       "<class 'statsmodels.iolib.summary2.Summary'>\n",
       "\"\"\"\n",
       "                          Results: Ordinary least squares\n",
       "====================================================================================\n",
       "Model:                  OLS                Adj. R-squared (uncentered): 0.588       \n",
       "Dependent Variable:     Production_in_tons AIC:                         2543063.4459\n",
       "Date:                   2024-05-07 11:01   BIC:                         2543111.0030\n",
       "No. Observations:       99849              Log-Likelihood:              -1.2715e+06 \n",
       "Df Model:               5                  F-statistic:                 2.854e+04   \n",
       "Df Residuals:           99844              Prob (F-statistic):          0.00        \n",
       "R-squared (uncentered): 0.588              Scale:                       6.7389e+09  \n",
       "--------------------------------------------------------------------------------------\n",
       "                        Coef.     Std.Err.      t       P>|t|      [0.025      0.975] \n",
       "--------------------------------------------------------------------------------------\n",
       "N                      216.2495     7.7964    27.7371   0.0000    200.9687    231.5304\n",
       "P                     -241.2908    13.3086   -18.1305   0.0000   -267.3755   -215.2061\n",
       "K                      108.2514    11.2028     9.6629   0.0000     86.2940    130.2088\n",
       "rainfall                -5.6325     0.4564   -12.3419   0.0000     -6.5270     -4.7380\n",
       "Area_in_hectares         2.0414     0.0059   344.3138   0.0000      2.0298      2.0531\n",
       "------------------------------------------------------------------------------------\n",
       "Omnibus:                148971.787          Durbin-Watson:             1.909        \n",
       "Prob(Omnibus):          0.000               Jarque-Bera (JB):          166427417.129\n",
       "Skew:                   8.835               Prob(JB):                  0.000        \n",
       "Kurtosis:               202.225             Condition No.:             2546         \n",
       "====================================================================================\n",
       "* The condition number is large (3e+03). This might indicate             strong\n",
       "multicollinearity or other numerical problems.\n",
       "\"\"\""
      ]
     },
     "execution_count": 45,
     "metadata": {},
     "output_type": "execute_result"
    }
   ],
   "source": [
    "model.summary2()"
   ]
  },
  {
   "cell_type": "code",
   "execution_count": 46,
   "id": "6d3bcc6f",
   "metadata": {},
   "outputs": [
    {
     "data": {
      "text/plain": [
       "Index(['N', 'P', 'K', 'rainfall', 'Area_in_hectares'], dtype='object')"
      ]
     },
     "execution_count": 46,
     "metadata": {},
     "output_type": "execute_result"
    }
   ],
   "source": [
    "X.columns"
   ]
  },
  {
   "cell_type": "code",
   "execution_count": 47,
   "id": "dce888cd",
   "metadata": {},
   "outputs": [
    {
     "name": "stdout",
     "output_type": "stream",
     "text": [
      "Enter Nitrogen: 45\n",
      "Enter Phosphorus: 65\n",
      "Enter Potassium: 46\n",
      "Enter Rainfall: 5664156\n",
      "Enter Area in Hectares: 616546\n",
      "Predicted crop yield: -21100906.46\n"
     ]
    }
   ],
   "source": [
    " def make_prediction(Nitrogen, Phos, Ka, rainfall_, Area_in_hectares_):\n",
    "    data = {\n",
    "       \"N\": Nitrogen,\n",
    "        \"P\": Phos,\n",
    "        \"K\": Ka,\n",
    "        \"rainfall\": rainfall_,\n",
    "        'Area_in_hectares': Area_in_hectares_\n",
    "    }\n",
    "    # Continue with your prediction logic here\n",
    "    df1 = pd.DataFrame(data, index=[0])\n",
    "        \n",
    "    prediction = lm.predict(df1).round(2)[0]\n",
    "    return f\"Predicted crop yield: {prediction}\"\n",
    "\n",
    "\n",
    "\n",
    "Nitrogen = float(input(\"Enter Nitrogen: \"))\n",
    "Phos = float(input(\"Enter Phosphorus: \"))\n",
    "Ka = float(input(\"Enter Potassium: \"))\n",
    "rainfall_ = float(input(\"Enter Rainfall: \"))\n",
    "Area_in_hectares_ = float(input(\"Enter Area in Hectares: \"))\n",
    "\n",
    "\n",
    "# Call the function with arguments\n",
    "prediction = make_prediction(Nitrogen, Phos, Ka, rainfall_, Area_in_hectares_)\n",
    "print(prediction)"
   ]
  },
  {
   "cell_type": "markdown",
   "id": "91b4fa9d",
   "metadata": {},
   "source": [
    "#### OR"
   ]
  },
  {
   "cell_type": "code",
   "execution_count": 48,
   "id": "d3ab111e",
   "metadata": {
    "scrolled": true
   },
   "outputs": [
    {
     "name": "stdout",
     "output_type": "stream",
     "text": [
      "Enter Nitrogen: 765\n",
      "Enter Phosphorus: 651\n",
      "Enter Potassium: 65165\n",
      "Enter Rainfall: 65156\n",
      "Enter Area in Hectares: 45612364\n",
      "Predicted crop yield: 101688919.59\n"
     ]
    }
   ],
   "source": [
    "def make_prediction():\n",
    "    Nitrogen = float(input(\"Enter Nitrogen: \"))\n",
    "    Phos = float(input(\"Enter Phosphorus: \"))\n",
    "    Ka = float(input(\"Enter Potassium: \"))\n",
    "    rainfall_ = float(input(\"Enter Rainfall: \"))\n",
    "    Area_in_hectares_ = float(input(\"Enter Area in Hectares: \"))\n",
    "\n",
    "    data = {\n",
    "        \"N\": Nitrogen,\n",
    "        \"P\": Phos,\n",
    "        \"K\": Ka,\n",
    "        \"rainfall\": rainfall_,\n",
    "        'Area_in_hectares': Area_in_hectares_\n",
    "    }\n",
    "\n",
    "    df1 = pd.DataFrame(data, index=[0])\n",
    "        \n",
    "    prediction = lm.predict(df1).round(2)[0]\n",
    "    return f\"Predicted crop yield: {prediction}\"\n",
    "\n",
    "print(make_prediction())\n"
   ]
  },
  {
   "cell_type": "code",
   "execution_count": 49,
   "id": "08bf5f44",
   "metadata": {},
   "outputs": [
    {
     "data": {
      "text/plain": [
       "Index(['N', 'P', 'K', 'rainfall', 'Area_in_hectares'], dtype='object')"
      ]
     },
     "execution_count": 49,
     "metadata": {},
     "output_type": "execute_result"
    }
   ],
   "source": [
    "X.columns"
   ]
  }
 ],
 "metadata": {
  "kernelspec": {
   "display_name": "Python 3 (ipykernel)",
   "language": "python",
   "name": "python3"
  },
  "language_info": {
   "codemirror_mode": {
    "name": "ipython",
    "version": 3
   },
   "file_extension": ".py",
   "mimetype": "text/x-python",
   "name": "python",
   "nbconvert_exporter": "python",
   "pygments_lexer": "ipython3",
   "version": "3.9.7"
  }
 },
 "nbformat": 4,
 "nbformat_minor": 5
}
